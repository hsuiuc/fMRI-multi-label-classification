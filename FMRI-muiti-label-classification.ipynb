{
 "cells": [
  {
   "cell_type": "code",
   "execution_count": 1,
   "metadata": {
    "collapsed": true
   },
   "outputs": [],
   "source": [
    "import numpy as np\n",
    "import matplotlib.pyplot as plt"
   ]
  },
  {
   "cell_type": "code",
   "execution_count": 2,
   "metadata": {},
   "outputs": [
    {
     "name": "stdout",
     "output_type": "stream",
     "text": [
      "[['faces']\n",
      " ['left_foot']\n",
      " ['visual_digits']\n",
      " ['left_hand']\n",
      " ['calculation']\n",
      " ['language']\n",
      " ['horizontal_checkerboard']\n",
      " ['human_sound']\n",
      " ['vertical_checkerboard']\n",
      " ['objects']\n",
      " ['places']\n",
      " ['scramble']\n",
      " ['right_hand']\n",
      " ['right_foot']\n",
      " ['visual_words']\n",
      " ['visual']\n",
      " ['non_human_sound']\n",
      " ['auditory']\n",
      " ['saccades']]\n"
     ]
    }
   ],
   "source": [
    "tag_name = np.load(\"tag_name.npy\").reshape(19, 1)\n",
    "print(tag_name)"
   ]
  },
  {
   "cell_type": "code",
   "execution_count": 3,
   "metadata": {},
   "outputs": [
    {
     "name": "stdout",
     "output_type": "stream",
     "text": [
      "train_X shape\n",
      "(4602, 26, 31, 23)\n",
      "train_binary_Y shape\n",
      "(4602, 19)\n",
      "valid_text_X shape\n",
      "(1971, 26, 31, 23)\n",
      "(26, 23)\n",
      "[0 0 0 0 0 0 0 0 0 0 0 0 1 0 0 0 0 1 0]\n"
     ]
    }
   ],
   "source": [
    "train_X = np.load(\"train_X.npy\")\n",
    "train_binary_Y = np.load(\"train_binary_Y.npy\")\n",
    "valid_test_X = np.load(\"valid_test_X.npy\")\n",
    "print(\"train_X shape\")\n",
    "print(train_X.shape)\n",
    "print(\"train_binary_Y shape\")\n",
    "print(train_binary_Y.shape)\n",
    "print(\"valid_text_X shape\")\n",
    "print(valid_test_X.shape)\n",
    "print(train_X[0][:, 0, :].shape)\n",
    "print(train_binary_Y[0])"
   ]
  },
  {
   "cell_type": "code",
   "execution_count": 4,
   "metadata": {},
   "outputs": [
    {
     "data": {
      "image/png": "[encoded data removed]",
      "text/plain": [
       "<matplotlib.figure.Figure at 0x7fd28a758c18>"
      ]
     },
     "metadata": {},
     "output_type": "display_data"
    },
    {
     "data": {
      "image/png": "[encoded data removed]",
      "text/plain": [
       "<matplotlib.figure.Figure at 0x7fd28a760518>"
      ]
     },
     "metadata": {},
     "output_type": "display_data"
    },
    {
     "data": {
      "image/png": "[encoded data removed]",
      "text/plain": [
       "<matplotlib.figure.Figure at 0x7fd24e31e668>"
      ]
     },
     "metadata": {},
     "output_type": "display_data"
    }
   ],
   "source": [
    "fig1 = plt.figure()\n",
    "plt.imshow(train_X[0][0, :, :], cmap=\"cool\", interpolation=\"none\")\n",
    "fig2 = plt.figure()\n",
    "plt.imshow(train_X[0][:, 0, :], cmap=\"jet\", interpolation=\"none\")\n",
    "fig3 = plt.figure()\n",
    "plt.imshow(train_X[0][:, :, 0], cmap=\"hot\", interpolation=\"none\")\n",
    "plt.show()"
   ]
  },
  {
   "cell_type": "code",
   "execution_count": 5,
   "metadata": {},
   "outputs": [
    {
     "name": "stdout",
     "output_type": "stream",
     "text": [
      "[ -9.71500881e-16  -6.82621103e-01  -2.55205419e+00  -2.66859067e+00\n",
      "  -2.51201060e+00  -2.76249793e+00  -3.47832462e+00  -3.96981385e+00\n",
      "  -2.86293830e+00  -3.29175727e+00  -4.24271307e+00  -4.06189188e+00\n",
      "  -3.29647664e+00  -3.14589367e+00  -2.94615246e+00  -2.61067988e+00\n",
      "  -3.56454028e+00  -3.46236040e+00  -2.68648458e+00  -2.94355167e+00\n",
      "  -3.20675415e+00  -3.65274529e+00  -2.95356596e+00]\n",
      "[  1.28839945e-15   8.00160436e-02   5.55077635e+00   5.16763890e+00\n",
      "   4.75970289e+00   4.95756733e+00   6.78372712e+00   6.49134278e+00\n",
      "   5.17578298e+00   6.71555108e+00   7.38901887e+00   7.47376803e+00\n",
      "   5.85913443e+00   5.05008335e+00   4.92352111e+00   2.80310606e+00\n",
      "   2.75933900e+00   4.84103413e+00   6.86818424e+00   4.89350192e+00\n",
      "   5.65438369e+00   5.38996678e+00   4.13942719e+00]\n",
      "[  1.28839945e-15   8.00160436e-02   5.55077635e+00   5.16763890e+00\n",
      "   4.75970289e+00   4.95756733e+00   6.78372712e+00   6.49134278e+00\n",
      "   5.17578298e+00   6.71555108e+00   7.38901887e+00   7.47376803e+00\n",
      "   5.85913443e+00   5.05008335e+00   4.92352111e+00   2.80310606e+00\n",
      "   2.75933900e+00   4.84103413e+00   6.86818424e+00   4.89350192e+00\n",
      "   5.65438369e+00   5.38996678e+00   4.13942719e+00]\n"
     ]
    }
   ],
   "source": [
    "min = []\n",
    "max = []\n",
    "mean = []\n",
    "for i in range(23):\n",
    "    min.append(np.amin(train_X[2000][:, i, :]))\n",
    "    max.append(np.amax(train_X[2000][:, i, :]))\n",
    "    mean.append(np.amax(train_X[2000][:, i, :]))\n",
    "print(np.array(min) * np.power(1, 15))\n",
    "print(np.array(max) * np.power(1, 15))\n",
    "print(np.array(mean) * np.power(1, 15))"
   ]
  },
  {
   "cell_type": "code",
   "execution_count": 6,
   "metadata": {},
   "outputs": [],
   "source": [
    "#print(train_X[2000][:, :, 0])"
   ]
  },
  {
   "cell_type": "code",
   "execution_count": 24,
   "metadata": {
    "collapsed": true
   },
   "outputs": [],
   "source": [
    "train_X_flat = np.reshape(train_X, (4602, -1))\n",
    "valid_test_X_flat = np.reshape(valid_test_X, (1971, -1))"
   ]
  },
  {
   "cell_type": "code",
   "execution_count": 25,
   "metadata": {},
   "outputs": [
    {
     "name": "stdout",
     "output_type": "stream",
     "text": [
      "(4602, 18538)\n",
      "(1971, 18538)\n"
     ]
    }
   ],
   "source": [
    "print(train_X_flat.shape)\n",
    "print(valid_test_X_flat.shape)"
   ]
  },
  {
   "cell_type": "code",
   "execution_count": 26,
   "metadata": {},
   "outputs": [],
   "source": [
    "from sklearn.preprocessing import StandardScaler\n",
    "scaler = StandardScaler()\n",
    "train_X_flat_standard = scaler.fit_transform(train_X_flat)\n",
    "valid_test_X_flat_standard = scaler.fit_transform(valid_test_X_flat)"
   ]
  },
  {
   "cell_type": "code",
   "execution_count": 47,
   "metadata": {
    "collapsed": true
   },
   "outputs": [],
   "source": [
    "# from sklearn.linear_model import RidgeClassifierCV"
   ]
  },
  {
   "cell_type": "code",
   "execution_count": 48,
   "metadata": {},
   "outputs": [
    {
     "ename": "ValueError",
     "evalue": "You appear to be using a legacy multi-label data representation. Sequence of sequences are no longer supported; use a binary array or sparse matrix instead.",
     "output_type": "error",
     "traceback": [
      "\u001b[0;31m---------------------------------------------------------------------------\u001b[0m",
      "\u001b[0;31mValueError\u001b[0m                                Traceback (most recent call last)",
      "\u001b[0;32m<ipython-input-48-22f99f402966>\u001b[0m in \u001b[0;36m<module>\u001b[0;34m()\u001b[0m\n\u001b[1;32m      1\u001b[0m \u001b[0mridgeClassifier\u001b[0m \u001b[0;34m=\u001b[0m \u001b[0mRidgeClassifierCV\u001b[0m\u001b[0;34m(\u001b[0m\u001b[0mnormalize\u001b[0m \u001b[0;34m=\u001b[0m \u001b[0;32mTrue\u001b[0m\u001b[0;34m,\u001b[0m \u001b[0mcv\u001b[0m \u001b[0;34m=\u001b[0m \u001b[0;36m5\u001b[0m\u001b[0;34m)\u001b[0m\u001b[0;34m\u001b[0m\u001b[0m\n\u001b[0;32m----> 2\u001b[0;31m \u001b[0mridgeClassifier\u001b[0m\u001b[0;34m.\u001b[0m\u001b[0mfit\u001b[0m\u001b[0;34m(\u001b[0m\u001b[0mtrain_X_flat_standard\u001b[0m\u001b[0;34m,\u001b[0m \u001b[0mtrain_Y_np\u001b[0m\u001b[0;34m)\u001b[0m\u001b[0;34m\u001b[0m\u001b[0m\n\u001b[0m",
      "\u001b[0;32m/usr/local/lib/python3.5/dist-packages/sklearn/linear_model/ridge.py\u001b[0m in \u001b[0;36mfit\u001b[0;34m(self, X, y, sample_weight)\u001b[0m\n\u001b[1;32m   1323\u001b[0m         \"\"\"\n\u001b[1;32m   1324\u001b[0m         \u001b[0mself\u001b[0m\u001b[0;34m.\u001b[0m\u001b[0m_label_binarizer\u001b[0m \u001b[0;34m=\u001b[0m \u001b[0mLabelBinarizer\u001b[0m\u001b[0;34m(\u001b[0m\u001b[0mpos_label\u001b[0m\u001b[0;34m=\u001b[0m\u001b[0;36m1\u001b[0m\u001b[0;34m,\u001b[0m \u001b[0mneg_label\u001b[0m\u001b[0;34m=\u001b[0m\u001b[0;34m-\u001b[0m\u001b[0;36m1\u001b[0m\u001b[0;34m)\u001b[0m\u001b[0;34m\u001b[0m\u001b[0m\n\u001b[0;32m-> 1325\u001b[0;31m         \u001b[0mY\u001b[0m \u001b[0;34m=\u001b[0m \u001b[0mself\u001b[0m\u001b[0;34m.\u001b[0m\u001b[0m_label_binarizer\u001b[0m\u001b[0;34m.\u001b[0m\u001b[0mfit_transform\u001b[0m\u001b[0;34m(\u001b[0m\u001b[0my\u001b[0m\u001b[0;34m)\u001b[0m\u001b[0;34m\u001b[0m\u001b[0m\n\u001b[0m\u001b[1;32m   1326\u001b[0m         \u001b[0;32mif\u001b[0m \u001b[0;32mnot\u001b[0m \u001b[0mself\u001b[0m\u001b[0;34m.\u001b[0m\u001b[0m_label_binarizer\u001b[0m\u001b[0;34m.\u001b[0m\u001b[0my_type_\u001b[0m\u001b[0;34m.\u001b[0m\u001b[0mstartswith\u001b[0m\u001b[0;34m(\u001b[0m\u001b[0;34m'multilabel'\u001b[0m\u001b[0;34m)\u001b[0m\u001b[0;34m:\u001b[0m\u001b[0;34m\u001b[0m\u001b[0m\n\u001b[1;32m   1327\u001b[0m             \u001b[0my\u001b[0m \u001b[0;34m=\u001b[0m \u001b[0mcolumn_or_1d\u001b[0m\u001b[0;34m(\u001b[0m\u001b[0my\u001b[0m\u001b[0;34m,\u001b[0m \u001b[0mwarn\u001b[0m\u001b[0;34m=\u001b[0m\u001b[0;32mTrue\u001b[0m\u001b[0;34m)\u001b[0m\u001b[0;34m\u001b[0m\u001b[0m\n",
      "\u001b[0;32m/usr/local/lib/python3.5/dist-packages/sklearn/base.py\u001b[0m in \u001b[0;36mfit_transform\u001b[0;34m(self, X, y, **fit_params)\u001b[0m\n\u001b[1;32m    492\u001b[0m         \u001b[0;32mif\u001b[0m \u001b[0my\u001b[0m \u001b[0;32mis\u001b[0m \u001b[0;32mNone\u001b[0m\u001b[0;34m:\u001b[0m\u001b[0;34m\u001b[0m\u001b[0m\n\u001b[1;32m    493\u001b[0m             \u001b[0;31m# fit method of arity 1 (unsupervised transformation)\u001b[0m\u001b[0;34m\u001b[0m\u001b[0;34m\u001b[0m\u001b[0m\n\u001b[0;32m--> 494\u001b[0;31m             \u001b[0;32mreturn\u001b[0m \u001b[0mself\u001b[0m\u001b[0;34m.\u001b[0m\u001b[0mfit\u001b[0m\u001b[0;34m(\u001b[0m\u001b[0mX\u001b[0m\u001b[0;34m,\u001b[0m \u001b[0;34m**\u001b[0m\u001b[0mfit_params\u001b[0m\u001b[0;34m)\u001b[0m\u001b[0;34m.\u001b[0m\u001b[0mtransform\u001b[0m\u001b[0;34m(\u001b[0m\u001b[0mX\u001b[0m\u001b[0;34m)\u001b[0m\u001b[0;34m\u001b[0m\u001b[0m\n\u001b[0m\u001b[1;32m    495\u001b[0m         \u001b[0;32melse\u001b[0m\u001b[0;34m:\u001b[0m\u001b[0;34m\u001b[0m\u001b[0m\n\u001b[1;32m    496\u001b[0m             \u001b[0;31m# fit method of arity 2 (supervised transformation)\u001b[0m\u001b[0;34m\u001b[0m\u001b[0;34m\u001b[0m\u001b[0m\n",
      "\u001b[0;32m/usr/local/lib/python3.5/dist-packages/sklearn/preprocessing/label.py\u001b[0m in \u001b[0;36mfit\u001b[0;34m(self, y)\u001b[0m\n\u001b[1;32m    294\u001b[0m         \u001b[0mself\u001b[0m \u001b[0;34m:\u001b[0m \u001b[0mreturns\u001b[0m \u001b[0man\u001b[0m \u001b[0minstance\u001b[0m \u001b[0mof\u001b[0m \u001b[0mself\u001b[0m\u001b[0;34m.\u001b[0m\u001b[0;34m\u001b[0m\u001b[0m\n\u001b[1;32m    295\u001b[0m         \"\"\"\n\u001b[0;32m--> 296\u001b[0;31m         \u001b[0mself\u001b[0m\u001b[0;34m.\u001b[0m\u001b[0my_type_\u001b[0m \u001b[0;34m=\u001b[0m \u001b[0mtype_of_target\u001b[0m\u001b[0;34m(\u001b[0m\u001b[0my\u001b[0m\u001b[0;34m)\u001b[0m\u001b[0;34m\u001b[0m\u001b[0m\n\u001b[0m\u001b[1;32m    297\u001b[0m         \u001b[0;32mif\u001b[0m \u001b[0;34m'multioutput'\u001b[0m \u001b[0;32min\u001b[0m \u001b[0mself\u001b[0m\u001b[0;34m.\u001b[0m\u001b[0my_type_\u001b[0m\u001b[0;34m:\u001b[0m\u001b[0;34m\u001b[0m\u001b[0m\n\u001b[1;32m    298\u001b[0m             raise ValueError(\"Multioutput target data is not supported with \"\n",
      "\u001b[0;32m/usr/local/lib/python3.5/dist-packages/sklearn/utils/multiclass.py\u001b[0m in \u001b[0;36mtype_of_target\u001b[0;34m(y)\u001b[0m\n\u001b[1;32m    248\u001b[0m         if (not hasattr(y[0], '__array__') and isinstance(y[0], Sequence)\n\u001b[1;32m    249\u001b[0m                 and not isinstance(y[0], string_types)):\n\u001b[0;32m--> 250\u001b[0;31m             raise ValueError('You appear to be using a legacy multi-label data'\n\u001b[0m\u001b[1;32m    251\u001b[0m                              \u001b[0;34m' representation. Sequence of sequences are no'\u001b[0m\u001b[0;34m\u001b[0m\u001b[0m\n\u001b[1;32m    252\u001b[0m                              \u001b[0;34m' longer supported; use a binary array or sparse'\u001b[0m\u001b[0;34m\u001b[0m\u001b[0m\n",
      "\u001b[0;31mValueError\u001b[0m: You appear to be using a legacy multi-label data representation. Sequence of sequences are no longer supported; use a binary array or sparse matrix instead."
     ]
    }
   ],
   "source": [
    "# ridgeClassifier = RidgeClassifierCV(normalize = True, cv = 5)\n",
    "# ridgeClassifier.fit(train_X_flat_standard, train_binary_Y)"
   ]
  },
  {
   "cell_type": "code",
   "execution_count": null,
   "metadata": {},
   "outputs": [],
   "source": [
    "from sklearn.multiclass import OneVsRestClassifier\n",
    "from sklearn.svm import SVC\n",
    "ovrClassifier = OneVsRestClassifier(SVC(kernel='linear'))\n",
    "ovrClassifier.fit(train_X_flat_standard, train_binary_Y)"
   ]
  },
  {
   "cell_type": "code",
   "execution_count": null,
   "metadata": {},
   "outputs": [],
   "source": [
    "predicted = ovrClassifier.predict(valid_test_X)"
   ]
  },
  {
   "cell_type": "code",
   "execution_count": null,
   "metadata": {
    "collapsed": true
   },
   "outputs": [],
   "source": [
    "print(predicted.shape)"
   ]
  },
  {
   "cell_type": "code",
   "execution_count": null,
   "metadata": {
    "collapsed": true
   },
   "outputs": [],
   "source": []
  }
 ],
 "metadata": {
  "kernelspec": {
   "display_name": "Python [default]",
   "language": "python",
   "name": "python3"
  },
  "language_info": {
   "codemirror_mode": {
    "name": "ipython",
    "version": 3
   },
   "file_extension": ".py",
   "mimetype": "text/x-python",
   "name": "python",
   "nbconvert_exporter": "python",
   "pygments_lexer": "ipython3",
   "version": "3.5.4"
  }
 },
 "nbformat": 4,
 "nbformat_minor": 2
}
