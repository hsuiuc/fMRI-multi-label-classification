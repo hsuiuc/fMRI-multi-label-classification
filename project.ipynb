{
 "cells": [
  {
   "cell_type": "code",
   "execution_count": 1,
   "metadata": {
    "collapsed": false
   },
   "outputs": [
    {
     "name": "stderr",
     "output_type": "stream",
     "text": [
      "Using TensorFlow backend.\n"
     ]
    }
   ],
   "source": [
    "import numpy as np\n",
    "from __future__ import absolute_import\n",
    "from __future__ import print_function\n",
    "import scipy.io\n",
    "from keras.preprocessing.image import ImageDataGenerator\n",
    "from keras.models import Sequential\n",
    "from keras.layers.core import Dense, Dropout, Activation, Flatten\n",
    "from keras.layers.convolutional import Convolution2D, MaxPooling2D\n",
    "from keras.layers.convolutional import Convolution3D, MaxPooling3D\n",
    "from keras.layers.normalization import BatchNormalization\n",
    "from keras.optimizers import SGD, Adadelta, Adagrad\n",
    "from keras.utils import np_utils, generic_utils\n",
    "from keras.datasets import mnist\n",
    "from six.moves import range\n"
   ]
  },
  {
   "cell_type": "code",
   "execution_count": 2,
   "metadata": {
    "collapsed": true
   },
   "outputs": [],
   "source": [
    "batch_size = 300\n",
    "nb_classes = 19\n",
    "nb_epoch = 100"
   ]
  },
  {
   "cell_type": "code",
   "execution_count": null,
   "metadata": {
    "collapsed": true
   },
   "outputs": [],
   "source": []
  },
  {
   "cell_type": "code",
   "execution_count": 3,
   "metadata": {
    "collapsed": false,
    "scrolled": false
   },
   "outputs": [],
   "source": [
    "X_train = np.load(\"train_X.npy\")\n",
    "Y_train = np.load(\"train_binary_Y.npy\")\n",
    "X_test = np.load(\"valid_test_X.npy\")\n",
    "\n",
    "X_train = X_train.reshape(X_train.shape[0], 1, 26, 31, 23)\n",
    "X_test = X_test.reshape(X_test.shape[0], 1, 26, 31, 23)\n",
    "\n",
    "# 5. Preprocess input data\n",
    "#X_train = X_train.reshape(X_train.shape[0], 1, 28, 28)\n",
    "#X_test = X_test.reshape(X_test.shape[0], 1, 28, 28)\n",
    "#X_train = X_train.astype('float32')\n",
    "#X_test = X_test.astype('float32')\n",
    "#X_train /= 255\n",
    "#X_test /= 255\n",
    " \n",
    "# 6.Preprocess class labels\n",
    "# Y_train = np_utils.to_categorical(Y_train, nb_classes)\n",
    "# Y_test = np_utils.to_categorical(y_test, 10)\n",
    " \n",
    "# 7. Define model architecture\n",
    "model = Sequential()\n",
    " \n",
    "model.add(Convolution3D(64, (7, 7, 7), input_shape=(1,26,31,23), data_format='channels_first'))\n",
    "model.add(Activation('relu'))\n",
    "model.add(MaxPooling3D(pool_size=(2,2,2), strides=(2,2,2)))\n",
    "\n",
    "model.add(Convolution3D(64, (5, 5, 5)))\n",
    "model.add(BatchNormalization())\n",
    "model.add(Activation('relu'))\n",
    "\n",
    "model.add(Convolution3D(64, (3, 3, 3)))\n",
    "model.add(BatchNormalization())\n",
    "model.add(Activation('relu'))\n",
    " \n",
    "model.add(Flatten())\n",
    "model.add(Dense(1024))\n",
    "model.add(Activation('relu'))\n",
    "model.add(Dropout(0.5))\n",
    "          \n",
    "model.add(Dense(512))\n",
    "model.add(BatchNormalization())\n",
    "model.add(Activation('relu'))\n",
    "model.add(Dropout(0.5))\n",
    "model.add(Dense(25))\n",
    "#model.add(Dense(10, activation='softmax'))\n",
    "\n",
    "model.add(Dense(nb_classes,activation='sigmoid'))\n",
    "\n"
   ]
  },
  {
   "cell_type": "code",
   "execution_count": 4,
   "metadata": {
    "collapsed": true
   },
   "outputs": [],
   "source": [
    "sgd = SGD(lr=0.1, decay=1e-6)\n",
    "model.compile(loss='categorical_crossentropy', optimizer=sgd)"
   ]
  },
  {
   "cell_type": "code",
   "execution_count": 5,
   "metadata": {
    "collapsed": false,
    "scrolled": false
   },
   "outputs": [
    {
     "name": "stdout",
     "output_type": "stream",
     "text": [
      "Epoch 1/100\n",
      "4602/4602 [==============================] - 25s 5ms/step - loss: 6.1982\n",
      "Epoch 2/100\n",
      "4602/4602 [==============================] - 18s 4ms/step - loss: 5.1143\n",
      "Epoch 3/100\n",
      "4602/4602 [==============================] - 18s 4ms/step - loss: 4.5485\n",
      "Epoch 4/100\n",
      "4602/4602 [==============================] - 18s 4ms/step - loss: 4.2167\n",
      "Epoch 5/100\n",
      "4602/4602 [==============================] - 19s 4ms/step - loss: 3.9643\n",
      "Epoch 6/100\n",
      "4602/4602 [==============================] - 18s 4ms/step - loss: 3.7721\n",
      "Epoch 7/100\n",
      "4602/4602 [==============================] - 19s 4ms/step - loss: 3.6326\n",
      "Epoch 8/100\n",
      "4602/4602 [==============================] - 19s 4ms/step - loss: 3.5230\n",
      "Epoch 9/100\n",
      "4602/4602 [==============================] - 19s 4ms/step - loss: 3.4281\n",
      "Epoch 10/100\n",
      "4602/4602 [==============================] - 19s 4ms/step - loss: 3.2286\n",
      "Epoch 11/100\n",
      "4602/4602 [==============================] - 19s 4ms/step - loss: 3.1218\n",
      "Epoch 12/100\n",
      "4602/4602 [==============================] - 19s 4ms/step - loss: 3.0160\n",
      "Epoch 13/100\n",
      "4602/4602 [==============================] - 19s 4ms/step - loss: 2.9540\n",
      "Epoch 14/100\n",
      "4602/4602 [==============================] - 18s 4ms/step - loss: 2.9073\n",
      "Epoch 15/100\n",
      "4602/4602 [==============================] - 18s 4ms/step - loss: 2.8276\n",
      "Epoch 16/100\n",
      "4602/4602 [==============================] - 19s 4ms/step - loss: 2.8084\n",
      "Epoch 17/100\n",
      "4602/4602 [==============================] - 19s 4ms/step - loss: 2.7285\n",
      "Epoch 18/100\n",
      "4602/4602 [==============================] - 18s 4ms/step - loss: 2.7160\n",
      "Epoch 19/100\n",
      "4602/4602 [==============================] - 18s 4ms/step - loss: 2.6647\n",
      "Epoch 20/100\n",
      "4602/4602 [==============================] - 19s 4ms/step - loss: 2.6269\n",
      "Epoch 21/100\n",
      "4602/4602 [==============================] - 19s 4ms/step - loss: 2.6119\n",
      "Epoch 22/100\n",
      "4602/4602 [==============================] - 19s 4ms/step - loss: 2.5883\n",
      "Epoch 23/100\n",
      "4602/4602 [==============================] - 19s 4ms/step - loss: 2.5535\n",
      "Epoch 24/100\n",
      "4602/4602 [==============================] - 18s 4ms/step - loss: 2.5455\n",
      "Epoch 25/100\n",
      "4602/4602 [==============================] - 19s 4ms/step - loss: 2.5336\n",
      "Epoch 26/100\n",
      "4602/4602 [==============================] - 19s 4ms/step - loss: 2.5215\n",
      "Epoch 27/100\n",
      "4602/4602 [==============================] - 19s 4ms/step - loss: 2.5200\n",
      "Epoch 28/100\n",
      "4602/4602 [==============================] - 18s 4ms/step - loss: 2.5019\n",
      "Epoch 29/100\n",
      "4602/4602 [==============================] - 19s 4ms/step - loss: 2.4839\n",
      "Epoch 30/100\n",
      "4602/4602 [==============================] - 19s 4ms/step - loss: 2.4870\n",
      "Epoch 31/100\n",
      "4602/4602 [==============================] - 19s 4ms/step - loss: 2.4759\n",
      "Epoch 32/100\n",
      "4602/4602 [==============================] - 18s 4ms/step - loss: 2.4877\n",
      "Epoch 33/100\n",
      "4602/4602 [==============================] - 18s 4ms/step - loss: 2.4651\n",
      "Epoch 34/100\n",
      "4602/4602 [==============================] - 19s 4ms/step - loss: 2.4736\n",
      "Epoch 35/100\n",
      "4602/4602 [==============================] - 19s 4ms/step - loss: 2.4676\n",
      "Epoch 36/100\n",
      "4602/4602 [==============================] - 19s 4ms/step - loss: 2.4662\n",
      "Epoch 37/100\n",
      "4602/4602 [==============================] - 19s 4ms/step - loss: 2.4589\n",
      "Epoch 38/100\n",
      "4602/4602 [==============================] - 19s 4ms/step - loss: 2.4554\n",
      "Epoch 39/100\n",
      "4602/4602 [==============================] - 19s 4ms/step - loss: 2.4422\n",
      "Epoch 40/100\n",
      "4602/4602 [==============================] - 18s 4ms/step - loss: 2.4496\n",
      "Epoch 41/100\n",
      "4602/4602 [==============================] - 19s 4ms/step - loss: 2.4383\n",
      "Epoch 42/100\n",
      "4602/4602 [==============================] - 19s 4ms/step - loss: 2.4402\n",
      "Epoch 43/100\n",
      "4602/4602 [==============================] - 19s 4ms/step - loss: 2.4439\n",
      "Epoch 44/100\n",
      "4602/4602 [==============================] - 19s 4ms/step - loss: 2.4461\n",
      "Epoch 45/100\n",
      "4602/4602 [==============================] - 18s 4ms/step - loss: 2.4429\n",
      "Epoch 46/100\n",
      "4602/4602 [==============================] - 19s 4ms/step - loss: 2.4333\n",
      "Epoch 47/100\n",
      "4602/4602 [==============================] - 18s 4ms/step - loss: 2.4309\n",
      "Epoch 48/100\n",
      "4602/4602 [==============================] - 18s 4ms/step - loss: 2.4270\n",
      "Epoch 49/100\n",
      "4602/4602 [==============================] - 19s 4ms/step - loss: 2.4277\n",
      "Epoch 50/100\n",
      "4602/4602 [==============================] - 19s 4ms/step - loss: 2.4290\n",
      "Epoch 51/100\n",
      "4602/4602 [==============================] - 18s 4ms/step - loss: 2.4309\n",
      "Epoch 52/100\n",
      "4602/4602 [==============================] - 18s 4ms/step - loss: 2.4289\n",
      "Epoch 53/100\n",
      "4602/4602 [==============================] - 19s 4ms/step - loss: 2.4288\n",
      "Epoch 54/100\n",
      "4602/4602 [==============================] - 19s 4ms/step - loss: 2.4270\n",
      "Epoch 55/100\n",
      "4602/4602 [==============================] - 19s 4ms/step - loss: 2.4245\n",
      "Epoch 56/100\n",
      "4602/4602 [==============================] - 19s 4ms/step - loss: 2.4202\n",
      "Epoch 57/100\n",
      "4602/4602 [==============================] - 18s 4ms/step - loss: 2.4185\n",
      "Epoch 58/100\n",
      "4602/4602 [==============================] - 19s 4ms/step - loss: 2.4156\n",
      "Epoch 59/100\n",
      "4602/4602 [==============================] - 19s 4ms/step - loss: 2.4150\n",
      "Epoch 60/100\n",
      "4602/4602 [==============================] - 19s 4ms/step - loss: 2.4131\n",
      "Epoch 61/100\n",
      "4602/4602 [==============================] - 18s 4ms/step - loss: 2.4116\n",
      "Epoch 62/100\n",
      "4602/4602 [==============================] - 19s 4ms/step - loss: 2.4128\n",
      "Epoch 63/100\n",
      "4602/4602 [==============================] - 18s 4ms/step - loss: 2.4141\n",
      "Epoch 64/100\n",
      "4602/4602 [==============================] - 18s 4ms/step - loss: 2.4110\n",
      "Epoch 65/100\n",
      "4602/4602 [==============================] - 18s 4ms/step - loss: 2.4086\n",
      "Epoch 66/100\n",
      "4602/4602 [==============================] - 19s 4ms/step - loss: 2.4127\n",
      "Epoch 67/100\n",
      "4602/4602 [==============================] - 19s 4ms/step - loss: 2.4072\n",
      "Epoch 68/100\n",
      "4602/4602 [==============================] - 19s 4ms/step - loss: 2.4084\n",
      "Epoch 69/100\n",
      "4602/4602 [==============================] - 18s 4ms/step - loss: 2.4096\n",
      "Epoch 70/100\n",
      "4602/4602 [==============================] - 18s 4ms/step - loss: 2.4142\n",
      "Epoch 71/100\n",
      "4602/4602 [==============================] - 19s 4ms/step - loss: 2.4093\n",
      "Epoch 72/100\n",
      "4602/4602 [==============================] - 19s 4ms/step - loss: 2.4083\n",
      "Epoch 73/100\n",
      "4602/4602 [==============================] - 19s 4ms/step - loss: 2.4095\n",
      "Epoch 74/100\n",
      "4602/4602 [==============================] - 19s 4ms/step - loss: 2.4071\n",
      "Epoch 75/100\n",
      "4602/4602 [==============================] - 19s 4ms/step - loss: 2.4051\n",
      "Epoch 76/100\n",
      "4602/4602 [==============================] - 18s 4ms/step - loss: 2.4064\n",
      "Epoch 77/100\n",
      "4602/4602 [==============================] - 19s 4ms/step - loss: 2.4059\n",
      "Epoch 78/100\n",
      "4602/4602 [==============================] - 19s 4ms/step - loss: 2.4044\n",
      "Epoch 79/100\n",
      "4602/4602 [==============================] - 18s 4ms/step - loss: 2.4085\n",
      "Epoch 80/100\n",
      "4602/4602 [==============================] - 18s 4ms/step - loss: 2.4044\n",
      "Epoch 81/100\n",
      "4602/4602 [==============================] - 19s 4ms/step - loss: 2.4072\n",
      "Epoch 82/100\n",
      "4602/4602 [==============================] - 19s 4ms/step - loss: 2.4080\n",
      "Epoch 83/100\n",
      "4602/4602 [==============================] - 19s 4ms/step - loss: 2.4065\n",
      "Epoch 84/100\n",
      "4602/4602 [==============================] - 19s 4ms/step - loss: 2.4014\n",
      "Epoch 85/100\n",
      "4602/4602 [==============================] - 19s 4ms/step - loss: 2.4016\n",
      "Epoch 86/100\n",
      "4602/4602 [==============================] - 19s 4ms/step - loss: 2.4022\n",
      "Epoch 87/100\n",
      "4602/4602 [==============================] - 19s 4ms/step - loss: 2.4042\n",
      "Epoch 88/100\n",
      "4602/4602 [==============================] - 19s 4ms/step - loss: 2.4047\n",
      "Epoch 89/100\n",
      "4602/4602 [==============================] - 19s 4ms/step - loss: 2.4022\n",
      "Epoch 90/100\n",
      "4602/4602 [==============================] - 19s 4ms/step - loss: 2.4040\n",
      "Epoch 91/100\n",
      "4602/4602 [==============================] - 19s 4ms/step - loss: 2.4007\n",
      "Epoch 92/100\n",
      "4602/4602 [==============================] - 19s 4ms/step - loss: 2.4023\n",
      "Epoch 93/100\n",
      "4602/4602 [==============================] - 19s 4ms/step - loss: 2.4015\n",
      "Epoch 94/100\n",
      "4602/4602 [==============================] - 19s 4ms/step - loss: 2.3987\n",
      "Epoch 95/100\n",
      "4602/4602 [==============================] - 19s 4ms/step - loss: 2.4004\n",
      "Epoch 96/100\n",
      "4602/4602 [==============================] - 19s 4ms/step - loss: 2.3999\n",
      "Epoch 97/100\n",
      "4602/4602 [==============================] - 19s 4ms/step - loss: 2.4025\n",
      "Epoch 98/100\n",
      "4602/4602 [==============================] - 19s 4ms/step - loss: 2.4022\n",
      "Epoch 99/100\n",
      "4602/4602 [==============================] - 19s 4ms/step - loss: 2.4010\n",
      "Epoch 100/100\n",
      "4602/4602 [==============================] - 19s 4ms/step - loss: 2.4058\n"
     ]
    },
    {
     "data": {
      "text/plain": [
       "<keras.callbacks.History at 0x7f562a5fe940>"
      ]
     },
     "execution_count": 5,
     "metadata": {},
     "output_type": "execute_result"
    }
   ],
   "source": [
    "model.fit(X_train, Y_train, batch_size=batch_size, epochs=nb_epoch, verbose = 1)"
   ]
  },
  {
   "cell_type": "code",
   "execution_count": null,
   "metadata": {
    "collapsed": true
   },
   "outputs": [],
   "source": []
  },
  {
   "cell_type": "code",
   "execution_count": 6,
   "metadata": {
    "collapsed": false
   },
   "outputs": [
    {
     "name": "stdout",
     "output_type": "stream",
     "text": [
      "[  1.03754726e-04   5.91655498e-06   5.34182959e-07   1.64450589e-03\n",
      "   2.64043865e-05   2.38670409e-03   1.60958155e-06   1.31721876e-03\n",
      "   1.38002224e-05   1.37897359e-05   6.96501274e-07   1.24873125e-07\n",
      "   9.98685062e-01   8.84579822e-06   4.24727614e-06   4.55111967e-06\n",
      "   7.03390827e-03   9.99993205e-01   4.88232502e-07]\n",
      "[0 0 0 0 0 0 0 0 0 0 0 0 1 0 0 0 0 1 0]\n"
     ]
    }
   ],
   "source": [
    "x=model.predict(X_train)\n",
    "print(x[0])\n",
    "print(Y_train[0])"
   ]
  },
  {
   "cell_type": "code",
   "execution_count": 7,
   "metadata": {
    "collapsed": false
   },
   "outputs": [
    {
     "name": "stdout",
     "output_type": "stream",
     "text": [
      "[[  2.57641204e-07   1.31284833e-06   1.20756340e-04   2.61617151e-06\n",
      "    9.99957800e-01   3.95171668e-07   2.47731514e-05   1.24126700e-06\n",
      "    4.20567829e-07   1.06168682e-06   2.02097516e-09   3.34164355e-07\n",
      "    1.27275425e-05   2.37830445e-05   1.61173517e-07   3.93657700e-07\n",
      "    3.19686681e-02   9.99999762e-01   2.76547610e-07]\n",
      " [  1.19011384e-06   2.04243697e-05   5.40455512e-05   2.11808394e-04\n",
      "    9.99699831e-01   1.34817310e-04   9.30977520e-04   5.91157950e-05\n",
      "    6.09701128e-05   6.34728030e-06   4.40080953e-07   4.12861154e-05\n",
      "    6.96617353e-05   5.00671267e-05   3.56577475e-05   1.66837672e-05\n",
      "    7.73058913e-04   9.99963045e-01   2.81519146e-06]\n",
      " [  1.23540212e-05   1.75173234e-04   6.42580322e-10   4.74741173e-05\n",
      "    2.83855138e-06   9.92033780e-01   3.24114633e-04   9.99868751e-01\n",
      "    2.15880282e-05   2.02251314e-07   1.15590810e-05   9.29244998e-05\n",
      "    1.28040820e-05   9.26055145e-05   4.88861005e-08   9.16813789e-08\n",
      "    1.08060784e-04   9.99997973e-01   8.98391590e-06]\n",
      " [  2.08992424e-06   6.24785549e-04   2.13972229e-10   1.14514223e-05\n",
      "    1.71340491e-06   1.25036277e-02   1.47643776e-04   9.99981642e-01\n",
      "    3.91881076e-06   1.98539034e-08   5.50490483e-07   2.64803639e-05\n",
      "    5.53878817e-06   1.38970718e-04   7.16071258e-10   3.57538283e-08\n",
      "    3.85738764e-04   9.99999881e-01   6.90819434e-06]\n",
      " [  1.57220870e-06   4.09617286e-07   9.12733977e-09   8.80038624e-06\n",
      "    9.34718555e-05   9.99983191e-01   1.28995953e-05   2.97869509e-03\n",
      "    1.43497743e-06   1.15241882e-07   1.80418112e-06   2.36429673e-06\n",
      "    5.43460337e-05   7.14452483e-07   1.10675626e-06   6.31756478e-08\n",
      "    8.93406195e-06   9.99951601e-01   4.54422171e-08]]\n"
     ]
    }
   ],
   "source": [
    "Y_predicted = model.predict(X_test)\n",
    "print(Y_predicted[0:5])"
   ]
  },
  {
   "cell_type": "code",
   "execution_count": 8,
   "metadata": {
    "collapsed": true
   },
   "outputs": [],
   "source": [
    "Y_predicted_binary = np.array([[1 if Y_ele > 0.5 else 0 for Y_ele in Y_row] for Y_row in Y_predicted])"
   ]
  },
  {
   "cell_type": "code",
   "execution_count": 11,
   "metadata": {
    "collapsed": false
   },
   "outputs": [
    {
     "name": "stdout",
     "output_type": "stream",
     "text": [
      "[[0 0 0 0 1 0 0 0 0 0 0 0 0 0 0 0 0 1 0]\n",
      " [0 0 0 0 1 0 0 0 0 0 0 0 0 0 0 0 0 1 0]\n",
      " [0 0 0 0 0 1 0 1 0 0 0 0 0 0 0 0 0 1 0]\n",
      " [0 0 0 0 0 0 0 1 0 0 0 0 0 0 0 0 0 1 0]\n",
      " [0 0 0 0 0 1 0 0 0 0 0 0 0 0 0 0 0 1 0]]\n"
     ]
    }
   ],
   "source": [
    "print(Y_predicted_binary[0:5])"
   ]
  },
  {
   "cell_type": "code",
   "execution_count": 12,
   "metadata": {
    "collapsed": true
   },
   "outputs": [],
   "source": [
    "np.save(\"Y_predicted.npy\", Y_predicted)\n",
    "np.save(\"Y_predicted_binary.npy\", Y_predicted_binary)"
   ]
  },
  {
   "cell_type": "code",
   "execution_count": null,
   "metadata": {
    "collapsed": true
   },
   "outputs": [],
   "source": []
  }
 ],
 "metadata": {
  "anaconda-cloud": {},
  "kernelspec": {
   "display_name": "Python [conda env:tensorflow]",
   "language": "python",
   "name": "conda-env-tensorflow-py"
  },
  "language_info": {
   "codemirror_mode": {
    "name": "ipython",
    "version": 3
   },
   "file_extension": ".py",
   "mimetype": "text/x-python",
   "name": "python",
   "nbconvert_exporter": "python",
   "pygments_lexer": "ipython3",
   "version": "3.5.4"
  }
 },
 "nbformat": 4,
 "nbformat_minor": 1
}
