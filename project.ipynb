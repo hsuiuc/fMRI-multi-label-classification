{
 "cells": [
  {
   "cell_type": "code",
   "execution_count": 1,
   "metadata": {},
   "outputs": [
    {
     "name": "stderr",
     "output_type": "stream",
     "text": [
      "Using TensorFlow backend.\n"
     ]
    }
   ],
   "source": [
    "import numpy as np\n",
    "from __future__ import absolute_import\n",
    "from __future__ import print_function\n",
    "import scipy.io\n",
    "from keras.preprocessing.image import ImageDataGenerator\n",
    "from keras.models import Sequential\n",
    "from keras.layers.core import Dense, Dropout, Activation, Flatten\n",
    "from keras.layers.convolutional import Convolution2D, MaxPooling2D\n",
    "from keras.layers.convolutional import Convolution3D, MaxPooling3D\n",
    "from keras.optimizers import SGD, Adadelta, Adagrad\n",
    "from keras.utils import np_utils, generic_utils\n",
    "from six.moves import range\n"
   ]
  },
  {
   "cell_type": "code",
   "execution_count": null,
   "metadata": {
    "collapsed": true
   },
   "outputs": [],
   "source": []
  },
  {
   "cell_type": "code",
   "execution_count": 2,
   "metadata": {
    "collapsed": true
   },
   "outputs": [],
   "source": [
    "batch_size = 40\n",
    "nb_classes = 19\n",
    "nb_epoch = 30"
   ]
  },
  {
   "cell_type": "code",
   "execution_count": null,
   "metadata": {
    "collapsed": true
   },
   "outputs": [],
   "source": []
  },
  {
   "cell_type": "code",
   "execution_count": 3,
   "metadata": {
    "collapsed": true,
    "scrolled": false
   },
   "outputs": [],
   "source": [
    "import numpy as np\n",
    " \n",
    "from keras.models import Sequential\n",
    "from keras.layers import Dense, Dropout, Activation, Flatten\n",
    "from keras.layers import Convolution2D, MaxPooling2D\n",
    "from keras.utils import np_utils\n",
    "from keras.datasets import mnist\n",
    " \n",
    "X_train = np.load(\"train_X.npy\")\n",
    "Y_train = np.load(\"train_binary_Y.npy\")\n",
    "X_test = np.load(\"valid_test_X.npy\")\n",
    "\n",
    "X_train = X_train.reshape(X_train.shape[0], 26, 31, 23, 1)\n",
    "X_test = X_test.reshape(X_test.shape[0], 26, 31, 23, 1)\n",
    "\n",
    "# 5. Preprocess input data\n",
    "#X_train = X_train.reshape(X_train.shape[0], 1, 28, 28)\n",
    "#X_test = X_test.reshape(X_test.shape[0], 1, 28, 28)\n",
    "#X_train = X_train.astype('float32')\n",
    "#X_test = X_test.astype('float32')\n",
    "#X_train /= 255\n",
    "#X_test /= 255\n",
    " \n",
    "# 6.Preprocess class labels\n",
    "# Y_train = np_utils.to_categorical(Y_train, nb_classes)\n",
    "# Y_test = np_utils.to_categorical(y_test, 10)\n",
    " \n",
    "# 7. Define model architecture\n",
    "model = Sequential()\n",
    " \n",
    "model.add(Convolution3D(32, (4, 4, 4), strides=(2, 2, 2), activation='relu', input_shape=(26,31,23,1)))\n",
    "model.add(Convolution3D(32, (4, 4, 4), strides=(2, 2, 2), activation='relu'))\n",
    "model.add(MaxPooling3D(pool_size=(2,2,2)))\n",
    "model.add(Dropout(0.25))\n",
    " \n",
    "model.add(Flatten())\n",
    "model.add(Dense(128, activation='relu'))\n",
    "model.add(Dropout(0.5))\n",
    "#model.add(Dense(10, activation='softmax'))\n",
    "\n",
    "model.add(Dense(nb_classes,activation='sigmoid'))\n",
    "\n"
   ]
  },
  {
   "cell_type": "code",
   "execution_count": null,
   "metadata": {
    "collapsed": true
   },
   "outputs": [],
   "source": [
    "sgd = SGD(lr=0.01, decay=1e-6, momentum=0.9, nesterov=True)\n",
    "model.compile(loss='categorical_crossentropy', optimizer=sgd)"
   ]
  },
  {
   "cell_type": "code",
   "execution_count": null,
   "metadata": {},
   "outputs": [
    {
     "name": "stdout",
     "output_type": "stream",
     "text": [
      "Epoch 1/30\n",
      "4602/4602 [==============================] - 1443s - loss: 5.8216  \n",
      "Epoch 2/30\n",
      "4602/4602 [==============================] - 1443s - loss: 4.8851  \n",
      "Epoch 3/30\n",
      "4602/4602 [==============================] - 1442s - loss: 4.4461  \n",
      "Epoch 4/30\n",
      "4602/4602 [==============================] - 1440s - loss: 4.2999  \n",
      "Epoch 5/30\n",
      "4602/4602 [==============================] - 1441s - loss: 4.1107  \n",
      "Epoch 6/30\n",
      "4602/4602 [==============================] - 1441s - loss: 3.9976  \n",
      "Epoch 7/30\n",
      "4602/4602 [==============================] - 1442s - loss: 3.8386  \n",
      "Epoch 8/30\n",
      "4602/4602 [==============================] - 1442s - loss: 3.8473  \n",
      "Epoch 9/30\n",
      "4602/4602 [==============================] - 1442s - loss: 3.7498  \n",
      "Epoch 10/30\n",
      "4602/4602 [==============================] - 1444s - loss: 3.6191  \n",
      "Epoch 11/30\n",
      "4602/4602 [==============================] - 1442s - loss: 3.5480  \n",
      "Epoch 12/30\n",
      "4602/4602 [==============================] - 1443s - loss: 3.7904  \n",
      "Epoch 13/30\n",
      "4602/4602 [==============================] - 1441s - loss: 3.5654  \n",
      "Epoch 14/30\n",
      "4602/4602 [==============================] - 1447s - loss: 3.5127  \n",
      "Epoch 15/30\n",
      "4602/4602 [==============================] - 1449s - loss: 3.4889  \n",
      "Epoch 16/30\n",
      "4602/4602 [==============================] - 1449s - loss: 3.3697  \n",
      "Epoch 17/30\n",
      "4602/4602 [==============================] - 1451s - loss: 3.3931  \n",
      "Epoch 18/30\n",
      "4602/4602 [==============================] - 1450s - loss: 3.3648  \n",
      "Epoch 19/30\n",
      "4602/4602 [==============================] - 1450s - loss: 3.3644  \n",
      "Epoch 20/30\n",
      "4602/4602 [==============================] - 1448s - loss: 3.2774  \n",
      "Epoch 21/30\n",
      "4000/4602 [=========================>....] - ETA: 189s - loss: 3.2893"
     ]
    }
   ],
   "source": [
    "model.fit(X_train, Y_train, batch_size=batch_size, epochs=nb_epoch, verbose = 1)"
   ]
  },
  {
   "cell_type": "code",
   "execution_count": null,
   "metadata": {
    "collapsed": true
   },
   "outputs": [],
   "source": []
  },
  {
   "cell_type": "code",
   "execution_count": null,
   "metadata": {
    "collapsed": true
   },
   "outputs": [],
   "source": [
    "x=model.predict(X_train)\n",
    "print(x[0])\n",
    "print(Y_train[0])"
   ]
  },
  {
   "cell_type": "code",
   "execution_count": null,
   "metadata": {
    "collapsed": true
   },
   "outputs": [],
   "source": [
    "Y_predicted = model.predict(X_test)\n",
    "print(Y_predicted[0:5])"
   ]
  },
  {
   "cell_type": "code",
   "execution_count": null,
   "metadata": {
    "collapsed": true
   },
   "outputs": [],
   "source": [
    "Y_predicted_binary = np.array([[1 if Y_ele > 0.5 else 0 for Y_ele in Y_row] for Y_row in Y_predicted])"
   ]
  },
  {
   "cell_type": "code",
   "execution_count": null,
   "metadata": {
    "collapsed": true
   },
   "outputs": [],
   "source": [
    "print(Y_predicted_binary[0:5])"
   ]
  },
  {
   "cell_type": "code",
   "execution_count": null,
   "metadata": {
    "collapsed": true
   },
   "outputs": [],
   "source": [
    "np.save(\"predicted_3D.npy\", Y_predicted_binary)"
   ]
  },
  {
   "cell_type": "code",
   "execution_count": null,
   "metadata": {
    "collapsed": true
   },
   "outputs": [],
   "source": []
  }
 ],
 "metadata": {
  "anaconda-cloud": {},
  "kernelspec": {
   "display_name": "Python [default]",
   "language": "python",
   "name": "python3"
  },
  "language_info": {
   "codemirror_mode": {
    "name": "ipython",
    "version": 3
   },
   "file_extension": ".py",
   "mimetype": "text/x-python",
   "name": "python",
   "nbconvert_exporter": "python",
   "pygments_lexer": "ipython3",
   "version": "3.5.4"
  }
 },
 "nbformat": 4,
 "nbformat_minor": 1
}
